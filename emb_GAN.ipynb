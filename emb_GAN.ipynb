{
  "cells": [
    {
      "cell_type": "markdown",
      "metadata": {
        "id": "XNFypVzKlQh1"
      },
      "source": [
        "### Import packages"
      ]
    },
    {
      "cell_type": "code",
      "execution_count": null,
      "metadata": {
        "colab": {
          "base_uri": "https://localhost:8080/"
        },
        "id": "A9LrEz3TLWVG",
        "outputId": "dd8d79c9-de09-4028-e7ef-81bce259d76b"
      },
      "outputs": [],
      "source": [
        "import tensorflow as tf\n",
        "print(\"TensorFlow\", tf.__version__)\n",
        "\n",
        "import os\n",
        "import numpy as np\n",
        "import pandas as pd\n",
        "from tensorflow.keras import layers\n",
        "from tensorflow.io import parse_tensor\n",
        "\n",
        "import time\n",
        "import datetime\n",
        "\n",
        "# For visualizations\n",
        "from sklearn.manifold import TSNE\n",
        "\n",
        "import matplotlib.pyplot as plt\n",
        "import matplotlib.cm as cm\n",
        "\n",
        "from IPython import display\n",
        "import glob\n",
        "import imageio\n",
        "import PIL"
      ]
    },
    {
      "cell_type": "markdown",
      "metadata": {
        "id": "8ba500GrMM-F"
      },
      "source": [
        "### Global paths for data loading and model saving"
      ]
    },
    {
      "cell_type": "code",
      "execution_count": null,
      "metadata": {
        "id": "M1OzlCMXCs2z"
      },
      "outputs": [],
      "source": [
        "# Serialized dataset path\n",
        "# Tensors are embeddings by SeqVec\n",
        "serialized_tensors_seqvec = 'Rhodopsin generation/processed/TFRecord_SerializedObjects_SeqVec'\n",
        "\n",
        "savepath = 'Rhodopsin generation/GANs/'\n",
        "modelspath  = 'Rhodopsin generation/GANs/models'\n",
        "checkpointpath  = 'Rhodopsin generation/GANs/checkpoints'\n",
        "\n",
        "# For tensors generated during training, to see how proteins became more natural\n",
        "generated_tensors_during_training = 'Rhodopsin generation/GANs/gentensors/seqvec'"
      ]
    },
    {
      "cell_type": "markdown",
      "metadata": {
        "id": "3UwpZ-zpOC-Y"
      },
      "source": [
        "### Data loading and preprocessing"
      ]
    },
    {
      "cell_type": "code",
      "execution_count": null,
      "metadata": {
        "id": "Pq5M5fAzPU6s"
      },
      "outputs": [],
      "source": [
        "# Batch size\n",
        "BATCH_SIZE = 128\n",
        "\n",
        "# (Lenght of Protein) x (Dimension of SeqVec embeddings) 400x1024 \n",
        "L = 400\n",
        "embedding_dim = 1024\n",
        "clades_num = 26"
      ]
    },
    {
      "cell_type": "code",
      "execution_count": null,
      "metadata": {
        "id": "hhWmiWALOCY3"
      },
      "outputs": [],
      "source": [
        "serialized_tensors = serialized_tensors_seqvec\n",
        "\n",
        "filenames = [serialized_tensors + '/' + file for file in os.listdir(serialized_tensors)]\n",
        "raw_dataset = tf.data.TFRecordDataset(filenames)\n",
        "\n",
        "def parse_example(example):\n",
        "  example_proto = tf.train.Example()\n",
        "  example_proto.ParseFromString(example.numpy())\n",
        "  features = example_proto.features.feature\n",
        "  label = parse_tensor(features['label'].bytes_list.value[0], out_type = tf.float32)\n",
        "  tensor = parse_tensor(features['tensor'].bytes_list.value[0], out_type = tf.float32)\n",
        "  return tf.argmax(label), tf.reduce_mean(tensor, axis=0)\n",
        "\n",
        "def parsed_dataset_generator():\n",
        "  for i in raw_dataset:\n",
        "    yield parse_example(i)\n",
        "\n",
        "parsed_dataset = tf.data.Dataset.from_generator(\n",
        "     parsed_dataset_generator,\n",
        "     (tf.int64, tf.float32),\n",
        "     (tf.TensorShape([]), tf.TensorShape([embedding_dim, ]))).batch(BATCH_SIZE)"
      ]
    },
    {
      "cell_type": "markdown",
      "metadata": {
        "id": "DWI0v5x6Dy0P"
      },
      "source": [
        "### Learning hyperparameters"
      ]
    },
    {
      "cell_type": "code",
      "execution_count": null,
      "metadata": {
        "id": "C5-myP6nDzcG"
      },
      "outputs": [],
      "source": [
        "# Dimension of latent space, where seeds for proteins come from\n",
        "latent_dim = 100 \n",
        "\n",
        "# DNN parameters\n",
        "dropout_rate = 0.3\n",
        "dense_dim = 128"
      ]
    },
    {
      "cell_type": "markdown",
      "metadata": {
        "id": "4Rp0nLCPT33H"
      },
      "source": [
        "## Create the models and define Loss-functions"
      ]
    },
    {
      "cell_type": "markdown",
      "metadata": {
        "id": "EQEfyJwDT69q"
      },
      "source": [
        "### The generator\n",
        "The generator is aimed to *generate* vectors of shape (1024, ) (SeqVec embeddings length), which represent rhodopsin sequence"
      ]
    },
    {
      "cell_type": "code",
      "execution_count": null,
      "metadata": {
        "id": "D0uSP-CyT3gh"
      },
      "outputs": [],
      "source": [
        "def make_generator_model():\n",
        "  input_z = layers.Input(shape=(latent_dim,))\n",
        "\n",
        "  x = layers.Dense(dense_dim, use_bias=False, input_shape=(latent_dim,))(input_z)\n",
        "  x = layers.BatchNormalization()(x)\n",
        "  x = layers.LeakyReLU()(x)\n",
        "\n",
        "  x = layers.Dense(2*dense_dim, use_bias=False)(x)\n",
        "  x = layers.BatchNormalization()(x)\n",
        "  x = layers.LeakyReLU()(x)\n",
        "\n",
        "  x = layers.Dense(2*2*dense_dim, use_bias=False)(x)\n",
        "  x = layers.BatchNormalization()(x)\n",
        "  x = layers.LeakyReLU()(x)\n",
        "\n",
        "  output = layers.Dense(embedding_dim, use_bias=False)(x)\n",
        "\n",
        "  model = tf.keras.Model(input_z, output, name=\"generator\")\n",
        "\n",
        "  return model"
      ]
    },
    {
      "cell_type": "code",
      "execution_count": null,
      "metadata": {
        "colab": {
          "base_uri": "https://localhost:8080/"
        },
        "id": "y6qtahQji7NV",
        "outputId": "ced2af0c-3b88-4130-8399-8b16f14abe69"
      },
      "outputs": [
        {
          "data": {
            "text/plain": [
              "<tf.Tensor: shape=(128, 1024), dtype=float32, numpy=\n",
              "array([[-0.08621431,  0.26281923,  0.24474712, ..., -0.27950823,\n",
              "        -0.23237364, -0.3346402 ],\n",
              "       [-0.10151209, -0.04200742,  0.03006314, ...,  0.00212605,\n",
              "        -0.5969251 , -0.01297479],\n",
              "       [ 0.01667298,  0.21596017,  0.08674801, ...,  0.01408926,\n",
              "         0.07614811, -0.2443341 ],\n",
              "       ...,\n",
              "       [ 0.02098741,  0.11482619,  0.10433593, ..., -0.12898807,\n",
              "        -0.09372294, -0.4027245 ],\n",
              "       [-0.13588631,  0.27771425,  0.02537064, ..., -0.00722599,\n",
              "        -0.32470238,  0.01280212],\n",
              "       [-0.13895339, -0.12354487, -0.17490868, ..., -0.20219065,\n",
              "        -0.11410799, -0.42112428]], dtype=float32)>"
            ]
          },
          "execution_count": 33,
          "metadata": {
            "tags": []
          },
          "output_type": "execute_result"
        }
      ],
      "source": [
        "generator = make_generator_model()\n",
        "\n",
        "input_z = tf.random.normal([BATCH_SIZE, latent_dim])\n",
        "generated_embedding = generator(input_z, training=False)\n",
        "\n",
        "generated_embedding"
      ]
    },
    {
      "cell_type": "code",
      "execution_count": null,
      "metadata": {
        "id": "rvwwCLAulbC4"
      },
      "outputs": [],
      "source": [
        "def make_discriminator_model():\n",
        "  input_emb = layers.Input(shape=(embedding_dim,))\n",
        "\n",
        "  x = layers.Dense(2*dense_dim)(input_emb)\n",
        "  x = layers.LeakyReLU()(x)\n",
        "  x = layers.Dropout(dropout_rate)(x)\n",
        "\n",
        "  x = layers.Dense(dense_dim)(x)\n",
        "  x = layers.LeakyReLU()(x)\n",
        "  x = layers.Dropout(dropout_rate)(x)\n",
        "\n",
        "  x = layers.Dense(dense_dim/2)(x)\n",
        "  x = layers.LeakyReLU()(x)\n",
        "  x = layers.Dropout(dropout_rate)(x)\n",
        "\n",
        "  output = layers.Dense(1)(x)\n",
        "\n",
        "  model = tf.keras.Model(input_emb, output, name=\"discriminator\")\n",
        "\n",
        "  return model"
      ]
    },
    {
      "cell_type": "code",
      "execution_count": null,
      "metadata": {
        "colab": {
          "base_uri": "https://localhost:8080/"
        },
        "id": "1pKzb4CHohIy",
        "outputId": "5c42a626-a2f3-4025-d185-c89d9e827cd3"
      },
      "outputs": [
        {
          "name": "stdout",
          "output_type": "stream",
          "text": [
            "tf.Tensor(\n",
            "[[ 8.36864710e-02]\n",
            " [-2.56602436e-01]\n",
            " [-2.14657970e-02]\n",
            " [-1.80977240e-01]\n",
            " [-1.18756883e-01]\n",
            " [-1.25419535e-02]\n",
            " [-2.03283429e-02]\n",
            " [-1.51661128e-01]\n",
            " [-7.81065524e-02]\n",
            " [-1.34831160e-01]\n",
            " [-9.65057164e-02]\n",
            " [ 8.09535682e-02]\n",
            " [ 1.44857228e-01]\n",
            " [-2.78771557e-02]\n",
            " [ 1.68840930e-01]\n",
            " [-1.05850650e-02]\n",
            " [ 3.01210117e-02]\n",
            " [ 7.48676062e-02]\n",
            " [ 5.45534417e-02]\n",
            " [-2.20032364e-01]\n",
            " [-5.29255718e-02]\n",
            " [-1.83343533e-02]\n",
            " [ 6.75737262e-02]\n",
            " [-2.74301052e-01]\n",
            " [ 1.82189010e-02]\n",
            " [-1.86658263e-01]\n",
            " [-3.60207856e-01]\n",
            " [-1.57483026e-01]\n",
            " [ 3.00425701e-02]\n",
            " [ 1.68999404e-01]\n",
            " [ 3.18370275e-02]\n",
            " [ 5.53617962e-02]\n",
            " [ 3.03149998e-01]\n",
            " [ 3.11417524e-02]\n",
            " [ 1.38942242e-01]\n",
            " [ 1.07469931e-01]\n",
            " [ 6.07231669e-02]\n",
            " [ 1.83582716e-02]\n",
            " [-1.09897248e-01]\n",
            " [-1.36235848e-01]\n",
            " [-2.16284364e-01]\n",
            " [ 1.01027273e-01]\n",
            " [-1.07405022e-01]\n",
            " [-2.03862116e-01]\n",
            " [-5.04569471e-01]\n",
            " [-9.76639912e-02]\n",
            " [-3.54223400e-01]\n",
            " [-2.49940846e-02]\n",
            " [ 9.16400701e-02]\n",
            " [-3.70309770e-01]\n",
            " [-2.46499613e-01]\n",
            " [ 2.18998268e-01]\n",
            " [-1.69087946e-02]\n",
            " [-2.53331751e-01]\n",
            " [ 1.03372432e-01]\n",
            " [ 1.45289764e-01]\n",
            " [-9.74993780e-02]\n",
            " [-1.60601228e-01]\n",
            " [ 1.34194046e-01]\n",
            " [-2.67258972e-01]\n",
            " [ 2.15429604e-01]\n",
            " [-1.25547037e-01]\n",
            " [-9.89536941e-02]\n",
            " [ 7.14803711e-02]\n",
            " [-1.39261141e-01]\n",
            " [-8.59967098e-02]\n",
            " [-3.53068039e-02]\n",
            " [-3.03692818e-01]\n",
            " [-3.90250459e-02]\n",
            " [-1.76598579e-01]\n",
            " [-3.95231813e-01]\n",
            " [ 3.88113298e-02]\n",
            " [-1.39870226e-01]\n",
            " [-1.26057878e-01]\n",
            " [-2.24745080e-01]\n",
            " [-1.62540525e-01]\n",
            " [ 1.48875758e-01]\n",
            " [-3.83311547e-02]\n",
            " [-2.79715955e-01]\n",
            " [ 9.78216752e-02]\n",
            " [-3.52448821e-02]\n",
            " [-1.22128502e-01]\n",
            " [ 2.18283564e-01]\n",
            " [-1.17503434e-01]\n",
            " [ 1.78487524e-02]\n",
            " [-2.92205572e-01]\n",
            " [-1.08987406e-01]\n",
            " [-1.32705092e-01]\n",
            " [ 7.83221573e-02]\n",
            " [-1.08897328e-01]\n",
            " [-1.30184263e-01]\n",
            " [-1.07556581e-04]\n",
            " [-2.04048362e-02]\n",
            " [-6.47077188e-02]\n",
            " [-2.98879325e-01]\n",
            " [ 1.29355520e-01]\n",
            " [ 2.72917375e-03]\n",
            " [-2.00057581e-01]\n",
            " [ 3.04869544e-02]\n",
            " [ 4.87497002e-02]\n",
            " [ 1.70380905e-01]\n",
            " [ 8.53107572e-02]\n",
            " [ 3.48215178e-02]\n",
            " [ 4.47997451e-03]\n",
            " [ 1.45676941e-01]\n",
            " [ 6.78642839e-02]\n",
            " [ 9.93231833e-02]\n",
            " [ 3.31508592e-02]\n",
            " [ 1.15000337e-01]\n",
            " [ 3.16685617e-01]\n",
            " [-6.14349954e-02]\n",
            " [-1.19336471e-01]\n",
            " [-1.31265312e-01]\n",
            " [-2.50182986e-01]\n",
            " [-1.61535010e-01]\n",
            " [ 1.06987402e-01]\n",
            " [ 4.64171581e-02]\n",
            " [-1.31337404e-01]\n",
            " [-7.41577446e-02]\n",
            " [ 1.22186132e-02]\n",
            " [-2.41344869e-01]\n",
            " [-1.07330747e-01]\n",
            " [-1.55657202e-01]\n",
            " [-3.07756886e-02]\n",
            " [-5.29179573e-02]\n",
            " [ 1.06604971e-01]\n",
            " [-1.44549459e-01]\n",
            " [ 1.58022121e-01]], shape=(128, 1), dtype=float32)\n"
          ]
        }
      ],
      "source": [
        "discriminator = make_discriminator_model()\n",
        "decision = discriminator(generated_embedding)\n",
        "print (decision)"
      ]
    },
    {
      "cell_type": "markdown",
      "metadata": {
        "id": "PeFak0h8pHFz"
      },
      "source": [
        "### Loss-functions and optimizers"
      ]
    },
    {
      "cell_type": "code",
      "execution_count": null,
      "metadata": {
        "id": "zabLndTSop2I"
      },
      "outputs": [],
      "source": [
        "# This method returns a helper function to compute cross entropy loss\n",
        "cross_entropy = tf.keras.losses.BinaryCrossentropy(from_logits=True)"
      ]
    },
    {
      "cell_type": "code",
      "execution_count": null,
      "metadata": {
        "id": "MtX-5Wv7pOb-"
      },
      "outputs": [],
      "source": [
        "# Discriminator loss is lower, when real-output returns 1, and fake-output (of generator) returns 0. Thus optimizer will make discriminator to verify natural proteins better \n",
        "def discriminator_loss(real_output, fake_output):\n",
        "    real_loss = cross_entropy(tf.ones_like(real_output), real_output)\n",
        "    fake_loss = cross_entropy(tf.zeros_like(fake_output), fake_output)\n",
        "    total_loss = real_loss + fake_loss\n",
        "    return total_loss\n",
        "\n",
        "# Generator loss is lower, when its fake-output returns 1. Thus optimizer will make generator to generate proteins closer to natural \n",
        "def generator_loss(fake_output):\n",
        "    return cross_entropy(tf.ones_like(fake_output), fake_output)"
      ]
    },
    {
      "cell_type": "code",
      "execution_count": null,
      "metadata": {
        "id": "UKjEqqrAplIK"
      },
      "outputs": [],
      "source": [
        "# Optimizers\n",
        "generator_optimizer = tf.keras.optimizers.Adam(1e-4)\n",
        "discriminator_optimizer = tf.keras.optimizers.Adam(1e-4)"
      ]
    },
    {
      "cell_type": "markdown",
      "metadata": {
        "id": "W_W0qVbNtajA"
      },
      "source": [
        "### Checkpoints"
      ]
    },
    {
      "cell_type": "code",
      "execution_count": null,
      "metadata": {
        "id": "l_kRW_Z7tQmb"
      },
      "outputs": [],
      "source": [
        "checkpoint_prefix = os.path.join(checkpointpath, 'seqvec', \"ckpt\")\n",
        "checkpoint = tf.train.Checkpoint(generator_optimizer=generator_optimizer,\n",
        "                                 discriminator_optimizer=discriminator_optimizer,\n",
        "                                 generator=generator,\n",
        "                                 discriminator=discriminator)"
      ]
    },
    {
      "cell_type": "markdown",
      "metadata": {
        "id": "02NAJJx8vU1H"
      },
      "source": [
        "### Define training step"
      ]
    },
    {
      "cell_type": "code",
      "execution_count": null,
      "metadata": {
        "id": "-Jsm-rqqvYQb"
      },
      "outputs": [],
      "source": [
        "EPOCHS = 10000\n",
        "num_proteins_to_generate_per_clade = 10\n",
        "\n",
        "# We will reuse this seed overtime (so it's easier)\n",
        "\n",
        "seed = tf.random.normal([num_proteins_to_generate_per_clade*clades_num, latent_dim])"
      ]
    },
    {
      "cell_type": "code",
      "execution_count": null,
      "metadata": {
        "id": "AcCW9Na1xm2R"
      },
      "outputs": [],
      "source": [
        "# Notice the use of `tf.function`\n",
        "# This annotation causes the function to be \"compiled\".\n",
        "@tf.function\n",
        "def train_step(batch):\n",
        "    real_labels, real_examples = batch\n",
        "    batch_size = real_examples.shape[0]\n",
        "\n",
        "    generator_inputs = tf.random.normal([batch_size, latent_dim])\n",
        "\n",
        "    with tf.GradientTape() as gen_tape, tf.GradientTape() as disc_tape:\n",
        "      fake_examples = generator(generator_inputs, training=True)\n",
        "\n",
        "      real_output = discriminator(real_examples, training=True)\n",
        "      fake_output = discriminator(fake_examples, training=True)\n",
        "\n",
        "      gen_loss = generator_loss(fake_output)\n",
        "      disc_loss = discriminator_loss(real_output, fake_output)\n",
        "\n",
        "    gradients_of_generator = gen_tape.gradient(gen_loss, generator.trainable_variables)\n",
        "    gradients_of_discriminator = disc_tape.gradient(disc_loss, discriminator.trainable_variables)\n",
        "\n",
        "    generator_optimizer.apply_gradients(zip(gradients_of_generator, generator.trainable_variables))\n",
        "    discriminator_optimizer.apply_gradients(zip(gradients_of_discriminator, discriminator.trainable_variables))"
      ]
    },
    {
      "cell_type": "code",
      "execution_count": null,
      "metadata": {
        "id": "jmcnmGDByB0N"
      },
      "outputs": [],
      "source": [
        "def train(dataset, epochs):\n",
        "  start_time = datetime.datetime.now()\n",
        "  for epoch in range(epochs):\n",
        "    start = time.time()\n",
        "\n",
        "    for batch in dataset:\n",
        "      train_step(batch)\n",
        "\n",
        "    if (epoch + 1) % 100 == 0:\n",
        "      generate_and_save_tensors(generator,\n",
        "                                start_time,\n",
        "                                epoch + 1,\n",
        "                                seed)\n",
        "\n",
        "    # Save the model every 100 epochs\n",
        "    if (epoch + 1) % 100 == 0:\n",
        "      checkpoint.save(file_prefix = checkpoint_prefix)\n",
        "\n",
        "    # print ('After epoch {}:\\n Discriminator loss:: {:+.2f}. Generator loss:: {:+.2f}'.format(epoch + 1, disc_loss, gen_loss))\n",
        "    print ('Time for epoch {} is {} sec'.format(epoch + 1, time.time()-start))\n",
        "\n",
        "  # Generate after the final epoch\n",
        "  generate_and_save_tensors(generator,\n",
        "                            start_time,\n",
        "                            epochs,\n",
        "                            seed)"
      ]
    },
    {
      "cell_type": "code",
      "execution_count": null,
      "metadata": {
        "id": "LoIz3KyEyeIK"
      },
      "outputs": [],
      "source": [
        "def generate_and_save_tensors(model, start_time, epoch, test_input):\n",
        "  # Notice `training` is set to False.\n",
        "  # This is so all layers run in inference mode (batchnorm).\n",
        "  predictions = model(test_input, training=False)\n",
        "  np.savetxt(os.path.join(generated_tensors_during_training, 'seqvec', start_time.strftime('%y-%m-%d-%Hh_E{:04d}.csv').format(epoch)), predictions, delimiter=',')"
      ]
    },
    {
      "cell_type": "code",
      "execution_count": null,
      "metadata": {
        "colab": {
          "base_uri": "https://localhost:8080/",
          "height": 1000
        },
        "id": "lertli2788O9",
        "outputId": "b8ad206d-1b32-417f-fa22-ab2cd755802d"
      },
      "outputs": [],
      "source": [
        "train(parsed_dataset, EPOCHS)"
      ]
    },
    {
      "cell_type": "markdown",
      "metadata": {
        "id": "EDU81DXz3-OZ"
      },
      "source": [
        "## Visualization"
      ]
    },
    {
      "cell_type": "markdown",
      "metadata": {
        "id": "zBdnHXgEUFd4"
      },
      "source": [
        "#### Train data preparation"
      ]
    },
    {
      "cell_type": "code",
      "execution_count": null,
      "metadata": {
        "id": "Dd17gwS3p7gP"
      },
      "outputs": [],
      "source": [
        "train_dataset = tf.data.Dataset.from_generator(\n",
        "     parsed_dataset_generator,\n",
        "     (tf.int64, tf.float32),\n",
        "     (tf.TensorShape([]), tf.TensorShape([1900,])))"
      ]
    },
    {
      "cell_type": "code",
      "execution_count": null,
      "metadata": {
        "id": "e-HdF-zu4NO4"
      },
      "outputs": [],
      "source": [
        "real_tensors = []\n",
        "real_labels = []\n",
        "\n",
        "for label, tensor in train_dataset.as_numpy_iterator():\n",
        "  real_tensors.append(tensor)\n",
        "  real_labels.append(label)\n",
        "\n",
        "real_tensors = np.array(real_tensors)\n",
        "real_labels = np.array(real_labels)"
      ]
    },
    {
      "cell_type": "markdown",
      "metadata": {
        "id": "pzfh11DBUJd6"
      },
      "source": [
        "#### t-SNE visualization "
      ]
    },
    {
      "cell_type": "code",
      "execution_count": null,
      "metadata": {
        "id": "PiSGvmKS_77d"
      },
      "outputs": [],
      "source": [
        "def take_part(num_elements, part, seed = None):\n",
        "  if seed: np.random.seed(seed)\n",
        "  indices = np.arange(0, num_elements)\n",
        "  np.random.shuffle(indices)\n",
        "  return indices[:round(num_elements * part)]\n",
        "\n",
        "def tsne_transform(tensors, labels, part = 1, seed=None, **kwargs):\n",
        "  # taking part of data\n",
        "  indices = take_part(labels.shape[0], part, seed=seed) \n",
        "  subTensors = tensors[indices]\n",
        "  subLabels = labels[indices]    \n",
        "\n",
        "  # define t-SNE model\n",
        "  tsne = TSNE(**kwargs)\n",
        "  tsne_representation = tsne.fit_transform(subTensors)\n",
        "\n",
        "  return tsne_representation, subLabels\n",
        "\n",
        "def tsne_vis(tsne_representation, labels, ax=plt, title = 't-SNE visualization', color_list = None, alpha=0.5, save_to_file = None):\n",
        "  if not color_list:\n",
        "    colors = cm.gist_ncar(np.linspace(0, 1, len(set(labels))+1));\n",
        "  else:\n",
        "    colors = color_list\n",
        "\n",
        "  for i, lab in enumerate(set(labels)):\n",
        "    if type(alpha) == list:\n",
        "      ax.scatter(tsne_representation[list(np.where(labels==lab)[0]), 0], tsne_representation[list(np.where(labels==lab)[0]), 1], color=colors[i], alpha=alpha[i], label=str(lab));   \n",
        "    else:\n",
        "      ax.scatter(tsne_representation[list(np.where(labels==lab)[0]), 0], tsne_representation[list(np.where(labels==lab)[0]), 1], color=colors[i], alpha=alpha, label=str(lab));\n",
        "\n",
        "  if ax == plt:\n",
        "    ax.title(title, size=30)\n",
        "  else:\n",
        "    ax.set_title(title, size=30)\n",
        "  # ax.legend(bbox_to_anchor=(1.05, 1), loc='upper left');\n",
        "\n",
        "  if save_to_file:\n",
        "    plt.savefig(save_to_file, pad_inches=0)"
      ]
    },
    {
      "cell_type": "code",
      "execution_count": null,
      "metadata": {
        "id": "fQ_AAvjMLExj"
      },
      "outputs": [],
      "source": [
        "ts, ys = tsne_transform(real_tensors, real_labels, part = 0.1, seed=1, random_state = 123)"
      ]
    },
    {
      "cell_type": "code",
      "execution_count": null,
      "metadata": {
        "colab": {
          "base_uri": "https://localhost:8080/",
          "height": 620
        },
        "id": "0Zrl5W7MRjJ6",
        "outputId": "c7ffdf33-a0ee-494e-e39b-22ec03a932a5"
      },
      "outputs": [
        {
          "data": {
            "image/png": "[encoded data removed]",
            "text/plain": [
              "<Figure size 1080x720 with 1 Axes>"
            ]
          },
          "metadata": {
            "tags": []
          },
          "output_type": "display_data"
        }
      ],
      "source": [
        "fig, axes = plt.subplots(1, 1, figsize=(15, 10));\n",
        "tsne_vis(ts, ys,  ax = axes)"
      ]
    },
    {
      "cell_type": "code",
      "execution_count": null,
      "metadata": {
        "id": "fYDxcI8TjFlN"
      },
      "outputs": [],
      "source": []
    }
  ],
  "metadata": {
    "accelerator": "GPU",
    "colab": {
      "collapsed_sections": [],
      "name": "rhodopsin_generation_gan_seqvec_embeddings.ipynb",
      "provenance": []
    },
    "kernelspec": {
      "display_name": "Python 3",
      "language": "python",
      "name": "python3"
    },
    "language_info": {
      "codemirror_mode": {
        "name": "ipython",
        "version": 3
      },
      "file_extension": ".py",
      "mimetype": "text/x-python",
      "name": "python",
      "nbconvert_exporter": "python",
      "pygments_lexer": "ipython3",
      "version": "3.8.3"
    }
  },
  "nbformat": 4,
  "nbformat_minor": 0
}